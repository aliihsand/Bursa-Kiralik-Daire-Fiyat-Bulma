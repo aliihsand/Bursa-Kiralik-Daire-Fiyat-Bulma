{
 "cells": [
  {
   "cell_type": "code",
   "execution_count": 1,
   "id": "9e57413b",
   "metadata": {},
   "outputs": [],
   "source": [
    "# Gerekli Kütüphaneler\n",
    "import pandas as pd\n",
    "import numpy as np\n",
    "import seaborn as sns"
   ]
  },
  {
   "cell_type": "code",
   "execution_count": 2,
   "id": "0477e853",
   "metadata": {},
   "outputs": [],
   "source": [
    "data = pd.read_excel(\"../veritoplama/EmlakVerileri.xlsx\")"
   ]
  },
  {
   "cell_type": "code",
   "execution_count": 3,
   "id": "9ae44750",
   "metadata": {},
   "outputs": [
    {
     "data": {
      "text/html": [
       "<div>\n",
       "<style scoped>\n",
       "    .dataframe tbody tr th:only-of-type {\n",
       "        vertical-align: middle;\n",
       "    }\n",
       "\n",
       "    .dataframe tbody tr th {\n",
       "        vertical-align: top;\n",
       "    }\n",
       "\n",
       "    .dataframe thead th {\n",
       "        text-align: right;\n",
       "    }\n",
       "</style>\n",
       "<table border=\"1\" class=\"dataframe\">\n",
       "  <thead>\n",
       "    <tr style=\"text-align: right;\">\n",
       "      <th></th>\n",
       "      <th>Aidat</th>\n",
       "      <th>Balkon Durumu</th>\n",
       "      <th>Balkon Metrekare</th>\n",
       "      <th>Balkon Sayısı</th>\n",
       "      <th>Balkon Tipi</th>\n",
       "      <th>Balkon Tipi Kapalı Balkon</th>\n",
       "      <th>Banyo Metrekare</th>\n",
       "      <th>Banyo Sayısı</th>\n",
       "      <th>Binanın Kat Sayısı</th>\n",
       "      <th>Binanın Yaşı</th>\n",
       "      <th>...</th>\n",
       "      <th>WC Metrekare</th>\n",
       "      <th>WC Sayısı</th>\n",
       "      <th>Yapı Durumu</th>\n",
       "      <th>Yapı Tipi</th>\n",
       "      <th>İlan Güncelleme Tarihi</th>\n",
       "      <th>İlan Numarası</th>\n",
       "      <th>İlan Oluşturma Tarihi</th>\n",
       "      <th>Url</th>\n",
       "      <th>Fiyat</th>\n",
       "      <th>Lokasyon</th>\n",
       "    </tr>\n",
       "  </thead>\n",
       "  <tbody>\n",
       "    <tr>\n",
       "      <th>0</th>\n",
       "      <td>100 TL</td>\n",
       "      <td>Var</td>\n",
       "      <td>8 M2</td>\n",
       "      <td>1</td>\n",
       "      <td>Açık Balkon</td>\n",
       "      <td>NaN</td>\n",
       "      <td>6 M2</td>\n",
       "      <td>1</td>\n",
       "      <td>5.0</td>\n",
       "      <td>21 Ve Üzeri</td>\n",
       "      <td>...</td>\n",
       "      <td>4 M2</td>\n",
       "      <td>1</td>\n",
       "      <td>İkinci El</td>\n",
       "      <td>Betonarme</td>\n",
       "      <td>17 Aralık 2023</td>\n",
       "      <td>14410960.0</td>\n",
       "      <td>17 Aralık 2023</td>\n",
       "      <td>https://emlakjet.com//ilan/aydinlik-ev-14410960/</td>\n",
       "      <td>8.000 TL</td>\n",
       "      <td>Bursa - Yıldırım - Musababa Mh.</td>\n",
       "    </tr>\n",
       "    <tr>\n",
       "      <th>1</th>\n",
       "      <td>NaN</td>\n",
       "      <td>Var</td>\n",
       "      <td>NaN</td>\n",
       "      <td>1</td>\n",
       "      <td>NaN</td>\n",
       "      <td>NaN</td>\n",
       "      <td>NaN</td>\n",
       "      <td>2</td>\n",
       "      <td>9.0</td>\n",
       "      <td>0 (Yeni)</td>\n",
       "      <td>...</td>\n",
       "      <td>NaN</td>\n",
       "      <td>NaN</td>\n",
       "      <td>NaN</td>\n",
       "      <td>NaN</td>\n",
       "      <td>18 Aralık 2023</td>\n",
       "      <td>14407317.0</td>\n",
       "      <td>16 Aralık 2023</td>\n",
       "      <td>https://emlakjet.com//ilan/bursa-osmangazi-yun...</td>\n",
       "      <td>16.000 TL</td>\n",
       "      <td>Bursa - Osmangazi - Güneştepe Mh.</td>\n",
       "    </tr>\n",
       "    <tr>\n",
       "      <th>2</th>\n",
       "      <td>2 TL</td>\n",
       "      <td>Yok</td>\n",
       "      <td>NaN</td>\n",
       "      <td>NaN</td>\n",
       "      <td>NaN</td>\n",
       "      <td>NaN</td>\n",
       "      <td>NaN</td>\n",
       "      <td>1</td>\n",
       "      <td>3.0</td>\n",
       "      <td>21 Ve Üzeri</td>\n",
       "      <td>...</td>\n",
       "      <td>NaN</td>\n",
       "      <td>NaN</td>\n",
       "      <td>NaN</td>\n",
       "      <td>NaN</td>\n",
       "      <td>15 Aralık 2023</td>\n",
       "      <td>14401862.0</td>\n",
       "      <td>15 Aralık 2023</td>\n",
       "      <td>https://emlakjet.com//ilan/bengisu-gayrimenkul...</td>\n",
       "      <td>6.000 TL</td>\n",
       "      <td>Bursa - Yıldırım - Piremir Mh.</td>\n",
       "    </tr>\n",
       "    <tr>\n",
       "      <th>3</th>\n",
       "      <td>200 TL</td>\n",
       "      <td>Var</td>\n",
       "      <td>NaN</td>\n",
       "      <td>2</td>\n",
       "      <td>Kapalı Balkon</td>\n",
       "      <td>NaN</td>\n",
       "      <td>NaN</td>\n",
       "      <td>1</td>\n",
       "      <td>5.0</td>\n",
       "      <td>21 Ve Üzeri</td>\n",
       "      <td>...</td>\n",
       "      <td>NaN</td>\n",
       "      <td>2</td>\n",
       "      <td>İkinci El</td>\n",
       "      <td>Betonarme</td>\n",
       "      <td>15 Aralık 2023</td>\n",
       "      <td>14401379.0</td>\n",
       "      <td>15 Aralık 2023</td>\n",
       "      <td>https://emlakjet.com//ilan/bursa-nilufer-karam...</td>\n",
       "      <td>15.000 TL</td>\n",
       "      <td>Bursa - Nilüfer - Karaman Mh.</td>\n",
       "    </tr>\n",
       "    <tr>\n",
       "      <th>4</th>\n",
       "      <td>0 TL</td>\n",
       "      <td>Yok</td>\n",
       "      <td>NaN</td>\n",
       "      <td>NaN</td>\n",
       "      <td>NaN</td>\n",
       "      <td>NaN</td>\n",
       "      <td>NaN</td>\n",
       "      <td>1</td>\n",
       "      <td>4.0</td>\n",
       "      <td>11-15</td>\n",
       "      <td>...</td>\n",
       "      <td>NaN</td>\n",
       "      <td>2</td>\n",
       "      <td>İkinci El</td>\n",
       "      <td>Betonarme</td>\n",
       "      <td>16 Aralık 2023</td>\n",
       "      <td>14398028.0</td>\n",
       "      <td>14 Aralık 2023</td>\n",
       "      <td>https://emlakjet.com//ilan/md-gayrimenkulden-b...</td>\n",
       "      <td>9.000 TL</td>\n",
       "      <td>Bursa - Gürsu - Kurtuluş Mh.</td>\n",
       "    </tr>\n",
       "  </tbody>\n",
       "</table>\n",
       "<p>5 rows × 36 columns</p>\n",
       "</div>"
      ],
      "text/plain": [
       "    Aidat Balkon Durumu Balkon Metrekare Balkon Sayısı    Balkon Tipi  \\\n",
       "0  100 TL           Var             8 M2             1    Açık Balkon   \n",
       "1     NaN           Var              NaN             1            NaN   \n",
       "2    2 TL           Yok              NaN           NaN            NaN   \n",
       "3  200 TL           Var              NaN             2  Kapalı Balkon   \n",
       "4    0 TL           Yok              NaN           NaN            NaN   \n",
       "\n",
       "  Balkon Tipi Kapalı Balkon Banyo Metrekare Banyo Sayısı  Binanın Kat Sayısı  \\\n",
       "0                       NaN            6 M2            1                 5.0   \n",
       "1                       NaN             NaN            2                 9.0   \n",
       "2                       NaN             NaN            1                 3.0   \n",
       "3                       NaN             NaN            1                 5.0   \n",
       "4                       NaN             NaN            1                 4.0   \n",
       "\n",
       "  Binanın Yaşı  ... WC Metrekare WC Sayısı Yapı Durumu  Yapı Tipi  \\\n",
       "0  21 Ve Üzeri  ...         4 M2         1   İkinci El  Betonarme   \n",
       "1     0 (Yeni)  ...          NaN       NaN         NaN        NaN   \n",
       "2  21 Ve Üzeri  ...          NaN       NaN         NaN        NaN   \n",
       "3  21 Ve Üzeri  ...          NaN         2   İkinci El  Betonarme   \n",
       "4        11-15  ...          NaN         2   İkinci El  Betonarme   \n",
       "\n",
       "  İlan Güncelleme Tarihi İlan Numarası İlan Oluşturma Tarihi  \\\n",
       "0         17 Aralık 2023    14410960.0        17 Aralık 2023   \n",
       "1         18 Aralık 2023    14407317.0        16 Aralık 2023   \n",
       "2         15 Aralık 2023    14401862.0        15 Aralık 2023   \n",
       "3         15 Aralık 2023    14401379.0        15 Aralık 2023   \n",
       "4         16 Aralık 2023    14398028.0        14 Aralık 2023   \n",
       "\n",
       "                                                 Url      Fiyat  \\\n",
       "0   https://emlakjet.com//ilan/aydinlik-ev-14410960/   8.000 TL   \n",
       "1  https://emlakjet.com//ilan/bursa-osmangazi-yun...  16.000 TL   \n",
       "2  https://emlakjet.com//ilan/bengisu-gayrimenkul...   6.000 TL   \n",
       "3  https://emlakjet.com//ilan/bursa-nilufer-karam...  15.000 TL   \n",
       "4  https://emlakjet.com//ilan/md-gayrimenkulden-b...   9.000 TL   \n",
       "\n",
       "                            Lokasyon  \n",
       "0    Bursa - Yıldırım - Musababa Mh.  \n",
       "1  Bursa - Osmangazi - Güneştepe Mh.  \n",
       "2     Bursa - Yıldırım - Piremir Mh.  \n",
       "3      Bursa - Nilüfer - Karaman Mh.  \n",
       "4       Bursa - Gürsu - Kurtuluş Mh.  \n",
       "\n",
       "[5 rows x 36 columns]"
      ]
     },
     "execution_count": 3,
     "metadata": {},
     "output_type": "execute_result"
    }
   ],
   "source": [
    "data.head()"
   ]
  },
  {
   "cell_type": "markdown",
   "id": "fd9a5f62",
   "metadata": {},
   "source": [
    "## Veri Ön İşleme"
   ]
  },
  {
   "cell_type": "code",
   "execution_count": 4,
   "id": "28a29588",
   "metadata": {},
   "outputs": [
    {
     "data": {
      "text/html": [
       "<div>\n",
       "<style scoped>\n",
       "    .dataframe tbody tr th:only-of-type {\n",
       "        vertical-align: middle;\n",
       "    }\n",
       "\n",
       "    .dataframe tbody tr th {\n",
       "        vertical-align: top;\n",
       "    }\n",
       "\n",
       "    .dataframe thead th {\n",
       "        text-align: right;\n",
       "    }\n",
       "</style>\n",
       "<table border=\"1\" class=\"dataframe\">\n",
       "  <thead>\n",
       "    <tr style=\"text-align: right;\">\n",
       "      <th></th>\n",
       "      <th>Aidat</th>\n",
       "      <th>Balkon Durumu</th>\n",
       "      <th>Balkon Metrekare</th>\n",
       "      <th>Balkon Sayısı</th>\n",
       "      <th>Balkon Tipi</th>\n",
       "      <th>Balkon Tipi Kapalı Balkon</th>\n",
       "      <th>Banyo Metrekare</th>\n",
       "      <th>Banyo Sayısı</th>\n",
       "      <th>Binanın Kat Sayısı</th>\n",
       "      <th>Binanın Yaşı</th>\n",
       "      <th>...</th>\n",
       "      <th>WC Metrekare</th>\n",
       "      <th>WC Sayısı</th>\n",
       "      <th>Yapı Durumu</th>\n",
       "      <th>Yapı Tipi</th>\n",
       "      <th>İlan Güncelleme Tarihi</th>\n",
       "      <th>İlan Numarası</th>\n",
       "      <th>İlan Oluşturma Tarihi</th>\n",
       "      <th>Url</th>\n",
       "      <th>Fiyat</th>\n",
       "      <th>Lokasyon</th>\n",
       "    </tr>\n",
       "  </thead>\n",
       "  <tbody>\n",
       "    <tr>\n",
       "      <th>0</th>\n",
       "      <td>100 TL</td>\n",
       "      <td>Var</td>\n",
       "      <td>8 M2</td>\n",
       "      <td>1</td>\n",
       "      <td>Açık Balkon</td>\n",
       "      <td>NaN</td>\n",
       "      <td>6 M2</td>\n",
       "      <td>1</td>\n",
       "      <td>5.0</td>\n",
       "      <td>21 Ve Üzeri</td>\n",
       "      <td>...</td>\n",
       "      <td>4 M2</td>\n",
       "      <td>1</td>\n",
       "      <td>İkinci El</td>\n",
       "      <td>Betonarme</td>\n",
       "      <td>17 Aralık 2023</td>\n",
       "      <td>14410960.0</td>\n",
       "      <td>17 Aralık 2023</td>\n",
       "      <td>https://emlakjet.com//ilan/aydinlik-ev-14410960/</td>\n",
       "      <td>8.000 TL</td>\n",
       "      <td>Bursa - Yıldırım - Musababa Mh.</td>\n",
       "    </tr>\n",
       "    <tr>\n",
       "      <th>1</th>\n",
       "      <td>NaN</td>\n",
       "      <td>Var</td>\n",
       "      <td>NaN</td>\n",
       "      <td>1</td>\n",
       "      <td>NaN</td>\n",
       "      <td>NaN</td>\n",
       "      <td>NaN</td>\n",
       "      <td>2</td>\n",
       "      <td>9.0</td>\n",
       "      <td>0 (Yeni)</td>\n",
       "      <td>...</td>\n",
       "      <td>NaN</td>\n",
       "      <td>NaN</td>\n",
       "      <td>NaN</td>\n",
       "      <td>NaN</td>\n",
       "      <td>18 Aralık 2023</td>\n",
       "      <td>14407317.0</td>\n",
       "      <td>16 Aralık 2023</td>\n",
       "      <td>https://emlakjet.com//ilan/bursa-osmangazi-yun...</td>\n",
       "      <td>16.000 TL</td>\n",
       "      <td>Bursa - Osmangazi - Güneştepe Mh.</td>\n",
       "    </tr>\n",
       "    <tr>\n",
       "      <th>2</th>\n",
       "      <td>2 TL</td>\n",
       "      <td>Yok</td>\n",
       "      <td>NaN</td>\n",
       "      <td>NaN</td>\n",
       "      <td>NaN</td>\n",
       "      <td>NaN</td>\n",
       "      <td>NaN</td>\n",
       "      <td>1</td>\n",
       "      <td>3.0</td>\n",
       "      <td>21 Ve Üzeri</td>\n",
       "      <td>...</td>\n",
       "      <td>NaN</td>\n",
       "      <td>NaN</td>\n",
       "      <td>NaN</td>\n",
       "      <td>NaN</td>\n",
       "      <td>15 Aralık 2023</td>\n",
       "      <td>14401862.0</td>\n",
       "      <td>15 Aralık 2023</td>\n",
       "      <td>https://emlakjet.com//ilan/bengisu-gayrimenkul...</td>\n",
       "      <td>6.000 TL</td>\n",
       "      <td>Bursa - Yıldırım - Piremir Mh.</td>\n",
       "    </tr>\n",
       "    <tr>\n",
       "      <th>3</th>\n",
       "      <td>200 TL</td>\n",
       "      <td>Var</td>\n",
       "      <td>NaN</td>\n",
       "      <td>2</td>\n",
       "      <td>Kapalı Balkon</td>\n",
       "      <td>NaN</td>\n",
       "      <td>NaN</td>\n",
       "      <td>1</td>\n",
       "      <td>5.0</td>\n",
       "      <td>21 Ve Üzeri</td>\n",
       "      <td>...</td>\n",
       "      <td>NaN</td>\n",
       "      <td>2</td>\n",
       "      <td>İkinci El</td>\n",
       "      <td>Betonarme</td>\n",
       "      <td>15 Aralık 2023</td>\n",
       "      <td>14401379.0</td>\n",
       "      <td>15 Aralık 2023</td>\n",
       "      <td>https://emlakjet.com//ilan/bursa-nilufer-karam...</td>\n",
       "      <td>15.000 TL</td>\n",
       "      <td>Bursa - Nilüfer - Karaman Mh.</td>\n",
       "    </tr>\n",
       "    <tr>\n",
       "      <th>4</th>\n",
       "      <td>0 TL</td>\n",
       "      <td>Yok</td>\n",
       "      <td>NaN</td>\n",
       "      <td>NaN</td>\n",
       "      <td>NaN</td>\n",
       "      <td>NaN</td>\n",
       "      <td>NaN</td>\n",
       "      <td>1</td>\n",
       "      <td>4.0</td>\n",
       "      <td>11-15</td>\n",
       "      <td>...</td>\n",
       "      <td>NaN</td>\n",
       "      <td>2</td>\n",
       "      <td>İkinci El</td>\n",
       "      <td>Betonarme</td>\n",
       "      <td>16 Aralık 2023</td>\n",
       "      <td>14398028.0</td>\n",
       "      <td>14 Aralık 2023</td>\n",
       "      <td>https://emlakjet.com//ilan/md-gayrimenkulden-b...</td>\n",
       "      <td>9.000 TL</td>\n",
       "      <td>Bursa - Gürsu - Kurtuluş Mh.</td>\n",
       "    </tr>\n",
       "  </tbody>\n",
       "</table>\n",
       "<p>5 rows × 36 columns</p>\n",
       "</div>"
      ],
      "text/plain": [
       "    Aidat Balkon Durumu Balkon Metrekare Balkon Sayısı    Balkon Tipi  \\\n",
       "0  100 TL           Var             8 M2             1    Açık Balkon   \n",
       "1     NaN           Var              NaN             1            NaN   \n",
       "2    2 TL           Yok              NaN           NaN            NaN   \n",
       "3  200 TL           Var              NaN             2  Kapalı Balkon   \n",
       "4    0 TL           Yok              NaN           NaN            NaN   \n",
       "\n",
       "  Balkon Tipi Kapalı Balkon Banyo Metrekare Banyo Sayısı  Binanın Kat Sayısı  \\\n",
       "0                       NaN            6 M2            1                 5.0   \n",
       "1                       NaN             NaN            2                 9.0   \n",
       "2                       NaN             NaN            1                 3.0   \n",
       "3                       NaN             NaN            1                 5.0   \n",
       "4                       NaN             NaN            1                 4.0   \n",
       "\n",
       "  Binanın Yaşı  ... WC Metrekare WC Sayısı Yapı Durumu  Yapı Tipi  \\\n",
       "0  21 Ve Üzeri  ...         4 M2         1   İkinci El  Betonarme   \n",
       "1     0 (Yeni)  ...          NaN       NaN         NaN        NaN   \n",
       "2  21 Ve Üzeri  ...          NaN       NaN         NaN        NaN   \n",
       "3  21 Ve Üzeri  ...          NaN         2   İkinci El  Betonarme   \n",
       "4        11-15  ...          NaN         2   İkinci El  Betonarme   \n",
       "\n",
       "  İlan Güncelleme Tarihi İlan Numarası İlan Oluşturma Tarihi  \\\n",
       "0         17 Aralık 2023    14410960.0        17 Aralık 2023   \n",
       "1         18 Aralık 2023    14407317.0        16 Aralık 2023   \n",
       "2         15 Aralık 2023    14401862.0        15 Aralık 2023   \n",
       "3         15 Aralık 2023    14401379.0        15 Aralık 2023   \n",
       "4         16 Aralık 2023    14398028.0        14 Aralık 2023   \n",
       "\n",
       "                                                 Url      Fiyat  \\\n",
       "0   https://emlakjet.com//ilan/aydinlik-ev-14410960/   8.000 TL   \n",
       "1  https://emlakjet.com//ilan/bursa-osmangazi-yun...  16.000 TL   \n",
       "2  https://emlakjet.com//ilan/bengisu-gayrimenkul...   6.000 TL   \n",
       "3  https://emlakjet.com//ilan/bursa-nilufer-karam...  15.000 TL   \n",
       "4  https://emlakjet.com//ilan/md-gayrimenkulden-b...   9.000 TL   \n",
       "\n",
       "                            Lokasyon  \n",
       "0    Bursa - Yıldırım - Musababa Mh.  \n",
       "1  Bursa - Osmangazi - Güneştepe Mh.  \n",
       "2     Bursa - Yıldırım - Piremir Mh.  \n",
       "3      Bursa - Nilüfer - Karaman Mh.  \n",
       "4       Bursa - Gürsu - Kurtuluş Mh.  \n",
       "\n",
       "[5 rows x 36 columns]"
      ]
     },
     "execution_count": 4,
     "metadata": {},
     "output_type": "execute_result"
    }
   ],
   "source": [
    "# Aktarımda site tarafından verilmeyen bazı boş bilgileri filtreleme işlemi\n",
    "filtered_data = data[data.apply(lambda row: row.count() > 3, axis=1)]\n",
    "filtered_data.head()"
   ]
  },
  {
   "cell_type": "code",
   "execution_count": 5,
   "id": "015379c9",
   "metadata": {},
   "outputs": [],
   "source": [
    "# Fiyatlandırma için filtreleme\n",
    "df = pd.DataFrame()\n",
    "df[\"Lokasyon\"] = filtered_data[\"Lokasyon\"]\n",
    "df[\"Yapı Durumu\"] = filtered_data[\"Yapı Durumu\"]\n",
    "df[\"Site İçerisinde\"] = filtered_data[\"Site İçerisinde\"]\n",
    "df[\"Oda Sayısı\"] = filtered_data[\"Oda Sayısı\"]\n",
    "df[\"Net Metrekare\"] = filtered_data[\"Net Metrekare\"]\n",
    "df[\"Isıtma Tipi\"] = filtered_data[\"Isıtma Tipi\"]\n",
    "df[\"Eşya Durumu\"] = filtered_data[\"Eşya Durumu\"]\n",
    "df[\"Bulunduğu Kat\"] = filtered_data[\"Bulunduğu Kat\"]\n",
    "df[\"Binanın Yaşı\"] = filtered_data[\"Binanın Yaşı\"]\n",
    "df[\"Binanın Kat Sayısı\"] = filtered_data[\"Binanın Kat Sayısı\"]\n",
    "df[\"Balkon Durumu\"] = filtered_data[\"Balkon Durumu\"]\n",
    "df[\"Banyo Sayısı\"] = filtered_data[\"Banyo Sayısı\"]\n",
    "df[\"WC Sayısı\"] = filtered_data[\"WC Sayısı\"]\n",
    "df[\"Aidat\"] = filtered_data[\"Aidat\"]\n",
    "df[\"Fiyat\"] = filtered_data[\"Fiyat\"]"
   ]
  },
  {
   "cell_type": "code",
   "execution_count": 6,
   "id": "92b67b68",
   "metadata": {},
   "outputs": [
    {
     "name": "stdout",
     "output_type": "stream",
     "text": [
      "Minimum Fiyat: 4500.0\n",
      "Maksimum Fiyat: 48000.0\n"
     ]
    }
   ],
   "source": [
    "# Günlük Daireleri ve Absürt Fiyatlandırmaları Filtreleme [Kiralık kısmına koyulan satılık daireler]\n",
    "# Fiyat sütununu temizleme ve sayısal formata dönüştürme\n",
    "df['Fiyat'] = df['Fiyat'].replace('[^\\d,]', '', regex=True).str.replace(',', '.').astype(float)\n",
    "\n",
    "# Fiyatı 1000'den küçük veya 100000'den büyük olan satırları dropla\n",
    "df = df[(df['Fiyat'] >= 1000) & (df['Fiyat'] <= 100000)]\n",
    "\n",
    "# Minimum ve maksimum fiyatı görüntüle\n",
    "min_fiyat = df['Fiyat'].min()\n",
    "max_fiyat = df['Fiyat'].max()\n",
    "\n",
    "print(f\"Minimum Fiyat: {min_fiyat}\")\n",
    "print(f\"Maksimum Fiyat: {max_fiyat}\")\n"
   ]
  },
  {
   "cell_type": "code",
   "execution_count": 7,
   "id": "fd2cfa2d",
   "metadata": {},
   "outputs": [
    {
     "data": {
      "text/html": [
       "<div>\n",
       "<style scoped>\n",
       "    .dataframe tbody tr th:only-of-type {\n",
       "        vertical-align: middle;\n",
       "    }\n",
       "\n",
       "    .dataframe tbody tr th {\n",
       "        vertical-align: top;\n",
       "    }\n",
       "\n",
       "    .dataframe thead th {\n",
       "        text-align: right;\n",
       "    }\n",
       "</style>\n",
       "<table border=\"1\" class=\"dataframe\">\n",
       "  <thead>\n",
       "    <tr style=\"text-align: right;\">\n",
       "      <th></th>\n",
       "      <th>Lokasyon</th>\n",
       "      <th>Yapı Durumu</th>\n",
       "      <th>Site İçerisinde</th>\n",
       "      <th>Oda Sayısı</th>\n",
       "      <th>Net Metrekare</th>\n",
       "      <th>Isıtma Tipi</th>\n",
       "      <th>Eşya Durumu</th>\n",
       "      <th>Bulunduğu Kat</th>\n",
       "      <th>Binanın Yaşı</th>\n",
       "      <th>Binanın Kat Sayısı</th>\n",
       "      <th>Balkon Durumu</th>\n",
       "      <th>Banyo Sayısı</th>\n",
       "      <th>WC Sayısı</th>\n",
       "      <th>Aidat</th>\n",
       "      <th>Fiyat</th>\n",
       "    </tr>\n",
       "  </thead>\n",
       "  <tbody>\n",
       "    <tr>\n",
       "      <th>0</th>\n",
       "      <td>Bursa - Yıldırım - Musababa Mh.</td>\n",
       "      <td>İkinci El</td>\n",
       "      <td>Hayır</td>\n",
       "      <td>3+1</td>\n",
       "      <td>100 M2</td>\n",
       "      <td>Doğalgaz Sobalı</td>\n",
       "      <td>Boş</td>\n",
       "      <td>2.Kat</td>\n",
       "      <td>21 Ve Üzeri</td>\n",
       "      <td>5.0</td>\n",
       "      <td>Var</td>\n",
       "      <td>1</td>\n",
       "      <td>1</td>\n",
       "      <td>100 TL</td>\n",
       "      <td>8000.0</td>\n",
       "    </tr>\n",
       "    <tr>\n",
       "      <th>1</th>\n",
       "      <td>Bursa - Osmangazi - Güneştepe Mh.</td>\n",
       "      <td>NaN</td>\n",
       "      <td>Hayır</td>\n",
       "      <td>3+1</td>\n",
       "      <td>105 M2</td>\n",
       "      <td>Kombi Doğalgaz</td>\n",
       "      <td>NaN</td>\n",
       "      <td>4.Kat</td>\n",
       "      <td>0 (Yeni)</td>\n",
       "      <td>9.0</td>\n",
       "      <td>Var</td>\n",
       "      <td>2</td>\n",
       "      <td>NaN</td>\n",
       "      <td>NaN</td>\n",
       "      <td>16000.0</td>\n",
       "    </tr>\n",
       "    <tr>\n",
       "      <th>2</th>\n",
       "      <td>Bursa - Yıldırım - Piremir Mh.</td>\n",
       "      <td>NaN</td>\n",
       "      <td>Hayır</td>\n",
       "      <td>1 Oda</td>\n",
       "      <td>50 M2</td>\n",
       "      <td>Doğalgaz Sobalı</td>\n",
       "      <td>NaN</td>\n",
       "      <td>Yüksek Giriş</td>\n",
       "      <td>21 Ve Üzeri</td>\n",
       "      <td>3.0</td>\n",
       "      <td>Yok</td>\n",
       "      <td>1</td>\n",
       "      <td>NaN</td>\n",
       "      <td>2 TL</td>\n",
       "      <td>6000.0</td>\n",
       "    </tr>\n",
       "    <tr>\n",
       "      <th>3</th>\n",
       "      <td>Bursa - Nilüfer - Karaman Mh.</td>\n",
       "      <td>İkinci El</td>\n",
       "      <td>Evet</td>\n",
       "      <td>3+1</td>\n",
       "      <td>120 M2</td>\n",
       "      <td>Kombi Doğalgaz</td>\n",
       "      <td>NaN</td>\n",
       "      <td>4.Kat</td>\n",
       "      <td>21 Ve Üzeri</td>\n",
       "      <td>5.0</td>\n",
       "      <td>Var</td>\n",
       "      <td>1</td>\n",
       "      <td>2</td>\n",
       "      <td>200 TL</td>\n",
       "      <td>15000.0</td>\n",
       "    </tr>\n",
       "    <tr>\n",
       "      <th>4</th>\n",
       "      <td>Bursa - Gürsu - Kurtuluş Mh.</td>\n",
       "      <td>İkinci El</td>\n",
       "      <td>Hayır</td>\n",
       "      <td>2+1</td>\n",
       "      <td>90 M2</td>\n",
       "      <td>Kombi Doğalgaz</td>\n",
       "      <td>Boş</td>\n",
       "      <td>Düz Giriş (Zemin)</td>\n",
       "      <td>11-15</td>\n",
       "      <td>4.0</td>\n",
       "      <td>Yok</td>\n",
       "      <td>1</td>\n",
       "      <td>2</td>\n",
       "      <td>0 TL</td>\n",
       "      <td>9000.0</td>\n",
       "    </tr>\n",
       "  </tbody>\n",
       "</table>\n",
       "</div>"
      ],
      "text/plain": [
       "                            Lokasyon Yapı Durumu Site İçerisinde Oda Sayısı  \\\n",
       "0    Bursa - Yıldırım - Musababa Mh.   İkinci El           Hayır        3+1   \n",
       "1  Bursa - Osmangazi - Güneştepe Mh.         NaN           Hayır        3+1   \n",
       "2     Bursa - Yıldırım - Piremir Mh.         NaN           Hayır      1 Oda   \n",
       "3      Bursa - Nilüfer - Karaman Mh.   İkinci El            Evet        3+1   \n",
       "4       Bursa - Gürsu - Kurtuluş Mh.   İkinci El           Hayır        2+1   \n",
       "\n",
       "  Net Metrekare      Isıtma Tipi Eşya Durumu      Bulunduğu Kat Binanın Yaşı  \\\n",
       "0        100 M2  Doğalgaz Sobalı         Boş              2.Kat  21 Ve Üzeri   \n",
       "1        105 M2   Kombi Doğalgaz         NaN              4.Kat     0 (Yeni)   \n",
       "2         50 M2  Doğalgaz Sobalı         NaN       Yüksek Giriş  21 Ve Üzeri   \n",
       "3        120 M2   Kombi Doğalgaz         NaN              4.Kat  21 Ve Üzeri   \n",
       "4         90 M2   Kombi Doğalgaz         Boş  Düz Giriş (Zemin)        11-15   \n",
       "\n",
       "   Binanın Kat Sayısı Balkon Durumu Banyo Sayısı WC Sayısı   Aidat    Fiyat  \n",
       "0                 5.0           Var            1         1  100 TL   8000.0  \n",
       "1                 9.0           Var            2       NaN     NaN  16000.0  \n",
       "2                 3.0           Yok            1       NaN    2 TL   6000.0  \n",
       "3                 5.0           Var            1         2  200 TL  15000.0  \n",
       "4                 4.0           Yok            1         2    0 TL   9000.0  "
      ]
     },
     "execution_count": 7,
     "metadata": {},
     "output_type": "execute_result"
    }
   ],
   "source": [
    "df.head()"
   ]
  },
  {
   "cell_type": "markdown",
   "id": "63092d7a",
   "metadata": {},
   "source": [
    "## Boş Verileri Doldurma"
   ]
  },
  {
   "cell_type": "code",
   "execution_count": 8,
   "id": "9b08cd0d",
   "metadata": {},
   "outputs": [
    {
     "data": {
      "text/plain": [
       "Lokasyon                0\n",
       "Yapı Durumu           537\n",
       "Site İçerisinde         0\n",
       "Oda Sayısı              0\n",
       "Net Metrekare           0\n",
       "Isıtma Tipi             0\n",
       "Eşya Durumu           161\n",
       "Bulunduğu Kat           0\n",
       "Binanın Yaşı            0\n",
       "Binanın Kat Sayısı      0\n",
       "Balkon Durumu         409\n",
       "Banyo Sayısı            0\n",
       "WC Sayısı             501\n",
       "Aidat                 539\n",
       "Fiyat                   0\n",
       "dtype: int64"
      ]
     },
     "execution_count": 8,
     "metadata": {},
     "output_type": "execute_result"
    }
   ],
   "source": [
    "df.isna().sum()"
   ]
  },
  {
   "cell_type": "code",
   "execution_count": 9,
   "id": "19aa2a9e",
   "metadata": {},
   "outputs": [
    {
     "data": {
      "text/plain": [
       "Yapı Durumu\n",
       "İkinci El    157\n",
       "Sıfır         20\n",
       "Name: count, dtype: int64"
      ]
     },
     "execution_count": 9,
     "metadata": {},
     "output_type": "execute_result"
    }
   ],
   "source": [
    "# Yapı Durumu\n",
    "df[\"Yapı Durumu\"].value_counts()"
   ]
  },
  {
   "cell_type": "code",
   "execution_count": 10,
   "id": "8a025c1e",
   "metadata": {},
   "outputs": [
    {
     "data": {
      "text/plain": [
       "0"
      ]
     },
     "execution_count": 10,
     "metadata": {},
     "output_type": "execute_result"
    }
   ],
   "source": [
    "# Yapı Durumu\n",
    "# Algoritma bina yaşı 0(Yeni) olan binaların Yapı Durumu 'Sıfır' diğerleri 'İkinci El' olarak atansın\n",
    "# 'Yapı Durumu' sütunundaki NaN değerlere yönelik koşullu atama\n",
    "df.loc[df['Yapı Durumu'].isna() & (df['Binanın Yaşı'] == \"0 (Yeni)\"), 'Yapı Durumu'] = 'Sıfır'\n",
    "df.loc[df['Yapı Durumu'].isna() & (df['Binanın Yaşı'] != \"0 (Yeni)\"), 'Yapı Durumu'] = 'İkinci El'\n",
    "df[\"Yapı Durumu\"].isna().sum()"
   ]
  },
  {
   "cell_type": "code",
   "execution_count": 11,
   "id": "d0c67fbd",
   "metadata": {},
   "outputs": [
    {
     "data": {
      "text/plain": [
       "Site İçerisinde\n",
       "Hayır    491\n",
       "Evet     223\n",
       "Name: count, dtype: int64"
      ]
     },
     "execution_count": 11,
     "metadata": {},
     "output_type": "execute_result"
    }
   ],
   "source": [
    "# Site İçerisinde\n",
    "df[\"Site İçerisinde\"].value_counts()"
   ]
  },
  {
   "cell_type": "code",
   "execution_count": 12,
   "id": "0040016c",
   "metadata": {},
   "outputs": [
    {
     "data": {
      "text/plain": [
       "Oda Sayısı\n",
       "2+1       306\n",
       "3+1       277\n",
       "1+1        48\n",
       "4+1        40\n",
       "5+1        10\n",
       "1 Oda       7\n",
       "6+1         5\n",
       "Stüdyo      5\n",
       "3.5+1       5\n",
       "4+2         2\n",
       "2.5+1       2\n",
       "5+2         1\n",
       "7+1         1\n",
       "1.5+1       1\n",
       "2+0         1\n",
       "3+0         1\n",
       "4+0         1\n",
       "4.5+1       1\n",
       "Name: count, dtype: int64"
      ]
     },
     "execution_count": 12,
     "metadata": {},
     "output_type": "execute_result"
    }
   ],
   "source": [
    "# Oda Sayısı\n",
    "df[\"Oda Sayısı\"].value_counts()"
   ]
  },
  {
   "cell_type": "code",
   "execution_count": 13,
   "id": "358e10fb",
   "metadata": {},
   "outputs": [
    {
     "data": {
      "text/plain": [
       "Net Metrekare\n",
       "100 M2    56\n",
       "120 M2    55\n",
       "130 M2    48\n",
       "80 M2     40\n",
       "110 M2    40\n",
       "          ..\n",
       "170 M2     1\n",
       "17 M2      1\n",
       "64 M2      1\n",
       "106 M2     1\n",
       "185 M2     1\n",
       "Name: count, Length: 85, dtype: int64"
      ]
     },
     "execution_count": 13,
     "metadata": {},
     "output_type": "execute_result"
    }
   ],
   "source": [
    "# Net Metrekare\n",
    "df[\"Net Metrekare\"].value_counts()"
   ]
  },
  {
   "cell_type": "code",
   "execution_count": 14,
   "id": "d1a8372d",
   "metadata": {},
   "outputs": [
    {
     "data": {
      "text/plain": [
       "Isıtma Tipi\n",
       "Kombi Doğalgaz         528\n",
       "Yerden Isıtma           75\n",
       "Merkezi Doğalgaz        32\n",
       "Merkezi (Pay Ölçer)     29\n",
       "Doğalgaz Sobalı         24\n",
       "Isıtma Yok               7\n",
       "Sobalı                   7\n",
       "Klimalı                  6\n",
       "Kat Kaloriferi           3\n",
       "Elektrikli Radyatör      2\n",
       "Merkezi Fueloil          1\n",
       "Name: count, dtype: int64"
      ]
     },
     "execution_count": 14,
     "metadata": {},
     "output_type": "execute_result"
    }
   ],
   "source": [
    "# Isıtma Tipi\n",
    "df[\"Isıtma Tipi\"].value_counts()"
   ]
  },
  {
   "cell_type": "code",
   "execution_count": 15,
   "id": "03b56698",
   "metadata": {},
   "outputs": [
    {
     "data": {
      "image/png": "[encoded data removed]",
      "text/plain": [
       "<Figure size 1200x600 with 1 Axes>"
      ]
     },
     "metadata": {},
     "output_type": "display_data"
    }
   ],
   "source": [
    "import matplotlib.pyplot as plt\n",
    "import seaborn as sns\n",
    "\n",
    "# 'Isıtma Tipi'ne göre gruplayıp ortalama fiyatları hesapla\n",
    "isitma_tipi_fiyat_ortalama = df.groupby('Isıtma Tipi')['Fiyat'].mean().sort_values()\n",
    "\n",
    "# Seaborn kütüphanesini kullanarak çubuk grafik çizimi\n",
    "plt.figure(figsize=(12, 6))\n",
    "ax = sns.barplot(x=isitma_tipi_fiyat_ortalama.index, y=isitma_tipi_fiyat_ortalama.values, palette=\"viridis\")\n",
    "\n",
    "# Çubukların üzerine değerleri yazma\n",
    "for p in ax.patches:\n",
    "    ax.annotate(f'{p.get_height():.2f}', (p.get_x() + p.get_width() / 2., p.get_height()), ha='center', va='center', xytext=(0, 10), textcoords='offset points')\n",
    "\n",
    "plt.title('Isıtma Tipine Göre Ortalama Fiyatlar')\n",
    "plt.xlabel('Isıtma Tipi')\n",
    "plt.ylabel('Ortalama Fiyat')\n",
    "plt.xticks(rotation=45)\n",
    "plt.show()\n"
   ]
  },
  {
   "cell_type": "code",
   "execution_count": 16,
   "id": "22030a88",
   "metadata": {},
   "outputs": [],
   "source": [
    "# Isıtma tipi kategorilerini düşürme\n",
    "df.loc[df['Isıtma Tipi'] == 'Elektrikli Radyatör', 'Isıtma Tipi'] = 'Isıtma Yok'\n",
    "df.loc[df['Isıtma Tipi'] == 'Sobalı', 'Isıtma Tipi'] = 'Isıtma Yok'\n",
    "df.loc[df['Isıtma Tipi'] == 'Merkezi Fueloil', 'Isıtma Tipi'] = 'Doğalgaz Sobalı'"
   ]
  },
  {
   "cell_type": "code",
   "execution_count": 17,
   "id": "9a93fe8f",
   "metadata": {},
   "outputs": [
    {
     "data": {
      "text/plain": [
       "Isıtma Tipi\n",
       "Kombi Doğalgaz         528\n",
       "Yerden Isıtma           75\n",
       "Merkezi Doğalgaz        32\n",
       "Merkezi (Pay Ölçer)     29\n",
       "Doğalgaz Sobalı         25\n",
       "Isıtma Yok              16\n",
       "Klimalı                  6\n",
       "Kat Kaloriferi           3\n",
       "Name: count, dtype: int64"
      ]
     },
     "execution_count": 17,
     "metadata": {},
     "output_type": "execute_result"
    }
   ],
   "source": [
    "# Isıtma Tipi\n",
    "df[\"Isıtma Tipi\"].value_counts()"
   ]
  },
  {
   "cell_type": "code",
   "execution_count": 18,
   "id": "5d451346",
   "metadata": {},
   "outputs": [
    {
     "data": {
      "text/plain": [
       "Eşya Durumu\n",
       "Boş       351\n",
       "Eşyalı    202\n",
       "Name: count, dtype: int64"
      ]
     },
     "execution_count": 18,
     "metadata": {},
     "output_type": "execute_result"
    }
   ],
   "source": [
    "df[\"Eşya Durumu\"].value_counts()"
   ]
  },
  {
   "cell_type": "code",
   "execution_count": 19,
   "id": "3261dbc5",
   "metadata": {},
   "outputs": [
    {
     "data": {
      "text/plain": [
       "0"
      ]
     },
     "execution_count": 19,
     "metadata": {},
     "output_type": "execute_result"
    }
   ],
   "source": [
    "# Eşya Durumu sütunundaki NaN değerlere 'Boş' değerini ekle \n",
    "df['Eşya Durumu'].fillna('Boş', inplace=True)\n",
    "df[\"Eşya Durumu\"].isna().sum()"
   ]
  },
  {
   "cell_type": "code",
   "execution_count": 20,
   "id": "908848ed",
   "metadata": {
    "scrolled": false
   },
   "outputs": [
    {
     "data": {
      "text/plain": [
       "Bulunduğu Kat\n",
       "2.Kat                165\n",
       "3.Kat                134\n",
       "1.Kat                108\n",
       "4.Kat                 78\n",
       "5.Kat                 62\n",
       "Yüksek Giriş          32\n",
       "Düz Giriş (Zemin)     22\n",
       "Bahçe Katı            19\n",
       "Çatı Dubleks          13\n",
       "6.Kat                 12\n",
       "8.Kat                 11\n",
       "7.Kat                 10\n",
       "Çatı Katı              8\n",
       "9.Kat                  6\n",
       "Bahçe Dublex           6\n",
       "Kot 3 (-3).Kat         4\n",
       "18.Kat                 3\n",
       "13.Kat                 3\n",
       "Kot 4 (-4).Kat         2\n",
       "Villa Tipi             2\n",
       "11.Kat                 2\n",
       "14.Kat                 2\n",
       "12.Kat                 2\n",
       "Müstakil               1\n",
       "19.Kat                 1\n",
       "Bodrum Kat             1\n",
       "Kot 2 (-2).Kat         1\n",
       "17.Kat                 1\n",
       "16.Kat                 1\n",
       "15.Kat                 1\n",
       "Kot 1 (-1).Kat         1\n",
       "Name: count, dtype: int64"
      ]
     },
     "execution_count": 20,
     "metadata": {},
     "output_type": "execute_result"
    }
   ],
   "source": [
    "# Bulunduğu Kat\n",
    "df[\"Bulunduğu Kat\"].value_counts()"
   ]
  },
  {
   "cell_type": "code",
   "execution_count": 21,
   "id": "be380e14",
   "metadata": {},
   "outputs": [
    {
     "data": {
      "image/png": "[encoded data removed]",
      "text/plain": [
       "<Figure size 1200x600 with 1 Axes>"
      ]
     },
     "metadata": {},
     "output_type": "display_data"
    }
   ],
   "source": [
    "import matplotlib.pyplot as plt\n",
    "import seaborn as sns\n",
    "\n",
    "# 'Isıtma Tipi'ne göre gruplayıp ortalama fiyatları hesapla\n",
    "bulundugu_kat_fiyat_ortalama = df.groupby('Bulunduğu Kat')['Fiyat'].mean().sort_values()\n",
    "\n",
    "# Seaborn kütüphanesini kullanarak çubuk grafik çizimi\n",
    "plt.figure(figsize=(12, 6))\n",
    "ax = sns.barplot(x=bulundugu_kat_fiyat_ortalama.index, y=bulundugu_kat_fiyat_ortalama.values, palette=\"viridis\")\n",
    "\n",
    "# Çubukların üzerine değerleri yazma\n",
    "for p in ax.patches:\n",
    "    ax.annotate(f'{p.get_height():.2f}', (p.get_x() + p.get_width() / 2., p.get_height()), ha='center', va='center', xytext=(0, 10), textcoords='offset points')\n",
    "\n",
    "plt.title('Bulunduğu Kata Göre Ortalama Fiyatlar')\n",
    "plt.xlabel('Bulunduğu Kat')\n",
    "plt.ylabel('Ortalama Fiyat')\n",
    "plt.xticks(rotation=45)\n",
    "plt.show()\n"
   ]
  },
  {
   "cell_type": "code",
   "execution_count": 22,
   "id": "5504cb9c",
   "metadata": {},
   "outputs": [
    {
     "data": {
      "text/html": [
       "<div>\n",
       "<style scoped>\n",
       "    .dataframe tbody tr th:only-of-type {\n",
       "        vertical-align: middle;\n",
       "    }\n",
       "\n",
       "    .dataframe tbody tr th {\n",
       "        vertical-align: top;\n",
       "    }\n",
       "\n",
       "    .dataframe thead th {\n",
       "        text-align: right;\n",
       "    }\n",
       "</style>\n",
       "<table border=\"1\" class=\"dataframe\">\n",
       "  <thead>\n",
       "    <tr style=\"text-align: right;\">\n",
       "      <th></th>\n",
       "      <th>Lokasyon</th>\n",
       "      <th>Yapı Durumu</th>\n",
       "      <th>Site İçerisinde</th>\n",
       "      <th>Oda Sayısı</th>\n",
       "      <th>Net Metrekare</th>\n",
       "      <th>Isıtma Tipi</th>\n",
       "      <th>Eşya Durumu</th>\n",
       "      <th>Bulunduğu Kat</th>\n",
       "      <th>Binanın Yaşı</th>\n",
       "      <th>Binanın Kat Sayısı</th>\n",
       "      <th>Balkon Durumu</th>\n",
       "      <th>Banyo Sayısı</th>\n",
       "      <th>WC Sayısı</th>\n",
       "      <th>Aidat</th>\n",
       "      <th>Fiyat</th>\n",
       "      <th>Kat Grubu</th>\n",
       "    </tr>\n",
       "  </thead>\n",
       "  <tbody>\n",
       "    <tr>\n",
       "      <th>0</th>\n",
       "      <td>Bursa - Yıldırım - Musababa Mh.</td>\n",
       "      <td>İkinci El</td>\n",
       "      <td>Hayır</td>\n",
       "      <td>3+1</td>\n",
       "      <td>100 M2</td>\n",
       "      <td>Doğalgaz Sobalı</td>\n",
       "      <td>Boş</td>\n",
       "      <td>2.Kat</td>\n",
       "      <td>21 Ve Üzeri</td>\n",
       "      <td>5.0</td>\n",
       "      <td>Var</td>\n",
       "      <td>1</td>\n",
       "      <td>1</td>\n",
       "      <td>100 TL</td>\n",
       "      <td>8000.0</td>\n",
       "      <td>Düşük Katlar[1-4]</td>\n",
       "    </tr>\n",
       "    <tr>\n",
       "      <th>1</th>\n",
       "      <td>Bursa - Osmangazi - Güneştepe Mh.</td>\n",
       "      <td>Sıfır</td>\n",
       "      <td>Hayır</td>\n",
       "      <td>3+1</td>\n",
       "      <td>105 M2</td>\n",
       "      <td>Kombi Doğalgaz</td>\n",
       "      <td>Boş</td>\n",
       "      <td>4.Kat</td>\n",
       "      <td>0 (Yeni)</td>\n",
       "      <td>9.0</td>\n",
       "      <td>Var</td>\n",
       "      <td>2</td>\n",
       "      <td>NaN</td>\n",
       "      <td>NaN</td>\n",
       "      <td>16000.0</td>\n",
       "      <td>Düşük Katlar[1-4]</td>\n",
       "    </tr>\n",
       "    <tr>\n",
       "      <th>2</th>\n",
       "      <td>Bursa - Yıldırım - Piremir Mh.</td>\n",
       "      <td>İkinci El</td>\n",
       "      <td>Hayır</td>\n",
       "      <td>1 Oda</td>\n",
       "      <td>50 M2</td>\n",
       "      <td>Doğalgaz Sobalı</td>\n",
       "      <td>Boş</td>\n",
       "      <td>Yüksek Giriş</td>\n",
       "      <td>21 Ve Üzeri</td>\n",
       "      <td>3.0</td>\n",
       "      <td>Yok</td>\n",
       "      <td>1</td>\n",
       "      <td>NaN</td>\n",
       "      <td>2 TL</td>\n",
       "      <td>6000.0</td>\n",
       "      <td>Giriş Katlar</td>\n",
       "    </tr>\n",
       "    <tr>\n",
       "      <th>3</th>\n",
       "      <td>Bursa - Nilüfer - Karaman Mh.</td>\n",
       "      <td>İkinci El</td>\n",
       "      <td>Evet</td>\n",
       "      <td>3+1</td>\n",
       "      <td>120 M2</td>\n",
       "      <td>Kombi Doğalgaz</td>\n",
       "      <td>Boş</td>\n",
       "      <td>4.Kat</td>\n",
       "      <td>21 Ve Üzeri</td>\n",
       "      <td>5.0</td>\n",
       "      <td>Var</td>\n",
       "      <td>1</td>\n",
       "      <td>2</td>\n",
       "      <td>200 TL</td>\n",
       "      <td>15000.0</td>\n",
       "      <td>Düşük Katlar[1-4]</td>\n",
       "    </tr>\n",
       "    <tr>\n",
       "      <th>4</th>\n",
       "      <td>Bursa - Gürsu - Kurtuluş Mh.</td>\n",
       "      <td>İkinci El</td>\n",
       "      <td>Hayır</td>\n",
       "      <td>2+1</td>\n",
       "      <td>90 M2</td>\n",
       "      <td>Kombi Doğalgaz</td>\n",
       "      <td>Boş</td>\n",
       "      <td>Düz Giriş (Zemin)</td>\n",
       "      <td>11-15</td>\n",
       "      <td>4.0</td>\n",
       "      <td>Yok</td>\n",
       "      <td>1</td>\n",
       "      <td>2</td>\n",
       "      <td>0 TL</td>\n",
       "      <td>9000.0</td>\n",
       "      <td>Giriş Katlar</td>\n",
       "    </tr>\n",
       "  </tbody>\n",
       "</table>\n",
       "</div>"
      ],
      "text/plain": [
       "                            Lokasyon Yapı Durumu Site İçerisinde Oda Sayısı  \\\n",
       "0    Bursa - Yıldırım - Musababa Mh.   İkinci El           Hayır        3+1   \n",
       "1  Bursa - Osmangazi - Güneştepe Mh.       Sıfır           Hayır        3+1   \n",
       "2     Bursa - Yıldırım - Piremir Mh.   İkinci El           Hayır      1 Oda   \n",
       "3      Bursa - Nilüfer - Karaman Mh.   İkinci El            Evet        3+1   \n",
       "4       Bursa - Gürsu - Kurtuluş Mh.   İkinci El           Hayır        2+1   \n",
       "\n",
       "  Net Metrekare      Isıtma Tipi Eşya Durumu      Bulunduğu Kat Binanın Yaşı  \\\n",
       "0        100 M2  Doğalgaz Sobalı         Boş              2.Kat  21 Ve Üzeri   \n",
       "1        105 M2   Kombi Doğalgaz         Boş              4.Kat     0 (Yeni)   \n",
       "2         50 M2  Doğalgaz Sobalı         Boş       Yüksek Giriş  21 Ve Üzeri   \n",
       "3        120 M2   Kombi Doğalgaz         Boş              4.Kat  21 Ve Üzeri   \n",
       "4         90 M2   Kombi Doğalgaz         Boş  Düz Giriş (Zemin)        11-15   \n",
       "\n",
       "   Binanın Kat Sayısı Balkon Durumu Banyo Sayısı WC Sayısı   Aidat    Fiyat  \\\n",
       "0                 5.0           Var            1         1  100 TL   8000.0   \n",
       "1                 9.0           Var            2       NaN     NaN  16000.0   \n",
       "2                 3.0           Yok            1       NaN    2 TL   6000.0   \n",
       "3                 5.0           Var            1         2  200 TL  15000.0   \n",
       "4                 4.0           Yok            1         2    0 TL   9000.0   \n",
       "\n",
       "           Kat Grubu  \n",
       "0  Düşük Katlar[1-4]  \n",
       "1  Düşük Katlar[1-4]  \n",
       "2       Giriş Katlar  \n",
       "3  Düşük Katlar[1-4]  \n",
       "4       Giriş Katlar  "
      ]
     },
     "execution_count": 22,
     "metadata": {},
     "output_type": "execute_result"
    }
   ],
   "source": [
    "# Kat gruplarını belirleme fonksiyonu\n",
    "def kat_grubu_belirle(kat):\n",
    "    if kat in ['Yüksek Giriş', 'Düz Giriş (Zemin)', 'Bahçe Katı', 'Müstakil']:\n",
    "        return 'Giriş Katlar'\n",
    "    elif kat in ['1.Kat', '2.Kat', '3.Kat', '4.Kat']:\n",
    "        return 'Düşük Katlar[1-4]'\n",
    "    elif kat in ['5.Kat', '6.Kat', '7.Kat', '8.Kat', '10.Kat']:\n",
    "        return 'Orta Katlar[5-10]'\n",
    "    elif 'Kat' in kat:\n",
    "        kat_num_str = ''.join(filter(str.isdigit, kat))\n",
    "        if kat_num_str and int(kat_num_str) > 10:\n",
    "            return 'Yüksek Katlar[10+]'\n",
    "    elif 'Çatı Dubleks' in kat:\n",
    "        return 'Dublex'\n",
    "    elif kat in ['Bahçe Dublex', 'Villa Tipi']:\n",
    "        return 'Dublex'\n",
    "    else:\n",
    "        return 'Droplama'\n",
    "\n",
    "# Yeni sınıflandırma sütunu ekleyin\n",
    "df['Kat Grubu'] = df['Bulunduğu Kat'].apply(kat_grubu_belirle)\n",
    "\n",
    "# 'Kat Grubu' sütunundaki 'None' değerleri 'Çatı Katı' ile doldur çünkü Yukardaki sınıflandırmada o eksik\n",
    "df['Kat Grubu'] = df['Kat Grubu'].fillna('Çatı Katı')\n",
    "\n",
    "# 'Droplama' kategorisine ait satırları dropla\n",
    "df = df[df['Kat Grubu'] != 'Droplama']\n",
    "\n",
    "df.head()\n"
   ]
  },
  {
   "cell_type": "code",
   "execution_count": 23,
   "id": "4c42f1ff",
   "metadata": {},
   "outputs": [
    {
     "data": {
      "text/plain": [
       "Kat Grubu\n",
       "Düşük Katlar[1-4]     485\n",
       "Orta Katlar[5-10]      95\n",
       "Giriş Katlar           74\n",
       "Yüksek Katlar[10+]     24\n",
       "Dublex                 21\n",
       "Çatı Katı              15\n",
       "Name: count, dtype: int64"
      ]
     },
     "execution_count": 23,
     "metadata": {},
     "output_type": "execute_result"
    }
   ],
   "source": [
    "# 'Bulunduğu Kat' sütununu dropla\n",
    "df.drop(columns=['Bulunduğu Kat'], inplace=True)\n",
    "df[\"Kat Grubu\"].value_counts()"
   ]
  },
  {
   "cell_type": "code",
   "execution_count": 24,
   "id": "d78e2a80",
   "metadata": {},
   "outputs": [
    {
     "data": {
      "text/plain": [
       "Binanın Yaşı\n",
       "21 Ve Üzeri    202\n",
       "5-10           148\n",
       "0 (Yeni)       100\n",
       "16-20           76\n",
       "11-15           75\n",
       "4               46\n",
       "3               28\n",
       "1               22\n",
       "2               17\n",
       "Name: count, dtype: int64"
      ]
     },
     "execution_count": 24,
     "metadata": {},
     "output_type": "execute_result"
    }
   ],
   "source": [
    "# Binanın yaşı\n",
    "df[\"Binanın Yaşı\"].value_counts()"
   ]
  },
  {
   "cell_type": "code",
   "execution_count": 25,
   "id": "00968877",
   "metadata": {},
   "outputs": [
    {
     "data": {
      "text/plain": [
       "Binanın Kat Sayısı\n",
       "5.0     244\n",
       "4.0     186\n",
       "3.0      93\n",
       "6.0      54\n",
       "2.0      30\n",
       "8.0      24\n",
       "7.0      17\n",
       "10.0     12\n",
       "9.0      11\n",
       "14.0      9\n",
       "15.0      8\n",
       "11.0      7\n",
       "13.0      6\n",
       "22.0      6\n",
       "30.0      2\n",
       "19.0      1\n",
       "21.0      1\n",
       "12.0      1\n",
       "1.0       1\n",
       "16.0      1\n",
       "Name: count, dtype: int64"
      ]
     },
     "execution_count": 25,
     "metadata": {},
     "output_type": "execute_result"
    }
   ],
   "source": [
    "# Binanın kat sayısı\n",
    "df[\"Binanın Kat Sayısı\"].value_counts()"
   ]
  },
  {
   "cell_type": "code",
   "execution_count": 26,
   "id": "cfddae13",
   "metadata": {},
   "outputs": [
    {
     "data": {
      "text/plain": [
       "Balkon Durumu\n",
       "Var    277\n",
       "Yok     28\n",
       "Name: count, dtype: int64"
      ]
     },
     "execution_count": 26,
     "metadata": {},
     "output_type": "execute_result"
    }
   ],
   "source": [
    "# Balkon Durumu\n",
    "df[\"Balkon Durumu\"].value_counts()"
   ]
  },
  {
   "cell_type": "code",
   "execution_count": 27,
   "id": "909bae3e",
   "metadata": {},
   "outputs": [
    {
     "data": {
      "text/plain": [
       "409"
      ]
     },
     "execution_count": 27,
     "metadata": {},
     "output_type": "execute_result"
    }
   ],
   "source": [
    "df[\"Balkon Durumu\"].isna().sum()"
   ]
  },
  {
   "cell_type": "code",
   "execution_count": 28,
   "id": "fc1d83fe",
   "metadata": {},
   "outputs": [],
   "source": [
    "# 'Balkon Durumu' sütunundaki NaN değerlere 'Var' değerini atama\n",
    "# Not : Araştırmalarıma göre girilmeyen değelerin genelde 1 balkon sayısı olduğu tespit edildi\n",
    "df['Balkon Durumu'].fillna('Var', inplace=True)"
   ]
  },
  {
   "cell_type": "code",
   "execution_count": 29,
   "id": "f1351947",
   "metadata": {},
   "outputs": [
    {
     "data": {
      "text/plain": [
       "0"
      ]
     },
     "execution_count": 29,
     "metadata": {},
     "output_type": "execute_result"
    }
   ],
   "source": [
    "df[\"Balkon Durumu\"].isna().sum()"
   ]
  },
  {
   "cell_type": "code",
   "execution_count": 30,
   "id": "6268d408",
   "metadata": {
    "scrolled": true
   },
   "outputs": [
    {
     "data": {
      "image/png": "[encoded data removed]",
      "text/plain": [
       "<Figure size 1200x600 with 1 Axes>"
      ]
     },
     "metadata": {},
     "output_type": "display_data"
    }
   ],
   "source": [
    "import matplotlib.pyplot as plt\n",
    "import seaborn as sns\n",
    "\n",
    "# 'Isıtma Tipi'ne göre gruplayıp ortalama fiyatları hesapla\n",
    "balkon_ortalama = df.groupby('Balkon Durumu')['Fiyat'].mean().sort_values()\n",
    "\n",
    "# Seaborn kütüphanesini kullanarak çubuk grafik çizimi\n",
    "plt.figure(figsize=(12, 6))\n",
    "ax = sns.barplot(x=balkon_ortalama.index, y=balkon_ortalama.values, palette=\"viridis\")\n",
    "\n",
    "# Çubukların üzerine değerleri yazma\n",
    "for p in ax.patches:\n",
    "    ax.annotate(f'{p.get_height():.2f}', (p.get_x() + p.get_width() / 2., p.get_height()), ha='center', va='center', xytext=(0, 10), textcoords='offset points')\n",
    "\n",
    "plt.title('Balkona Göre Ortalama Fiyatlar')\n",
    "plt.xlabel('Balkon')\n",
    "plt.ylabel('Ortalama Fiyat')\n",
    "plt.xticks(rotation=45)\n",
    "plt.show()\n"
   ]
  },
  {
   "cell_type": "code",
   "execution_count": 31,
   "id": "9360c3fd",
   "metadata": {},
   "outputs": [],
   "source": [
    "# Banyo sayısı\n",
    "# 'Yok' olan değerleri 0'a çevir\n",
    "df['Banyo Sayısı'] = df['Banyo Sayısı'].apply(lambda x: 0 if x == 'Yok' else int(x))"
   ]
  },
  {
   "cell_type": "code",
   "execution_count": 32,
   "id": "72bfa13f",
   "metadata": {},
   "outputs": [
    {
     "data": {
      "text/plain": [
       "WC Sayısı\n",
       "1      115\n",
       "2       88\n",
       "3        9\n",
       "Yok      1\n",
       "Name: count, dtype: int64"
      ]
     },
     "execution_count": 32,
     "metadata": {},
     "output_type": "execute_result"
    }
   ],
   "source": [
    "# WC Sayısı\n",
    "df[\"WC Sayısı\"].value_counts()"
   ]
  },
  {
   "cell_type": "code",
   "execution_count": 33,
   "id": "cbd9a321",
   "metadata": {},
   "outputs": [
    {
     "data": {
      "text/plain": [
       "0"
      ]
     },
     "execution_count": 33,
     "metadata": {},
     "output_type": "execute_result"
    }
   ],
   "source": [
    "# WC Sayısı sütunundaki \"Yok\" değerlerini 0 ile değiştirme\n",
    "df['WC Sayısı'].replace('Yok', 0, inplace=True)\n",
    "# WC Sayısı sütunundaki NaN değeleri 0 ile değiştirme\n",
    "df['WC Sayısı'].fillna( 0, inplace=True)\n",
    "df['WC Sayısı'].isna().sum()"
   ]
  },
  {
   "cell_type": "code",
   "execution_count": 34,
   "id": "0b555eef",
   "metadata": {},
   "outputs": [
    {
     "data": {
      "text/plain": [
       "0"
      ]
     },
     "execution_count": 34,
     "metadata": {},
     "output_type": "execute_result"
    }
   ],
   "source": [
    "# Aidat sütununu temizleme ve sayısal formata dönüştürme\n",
    "df['Aidat'] = df['Aidat'].replace('[^\\d,]', '', regex=True).str.replace(',', '.').astype(float)\n",
    "\n",
    "# Aidat sütunundaki NaN değeleri 0 ile değiştirme\n",
    "df['Aidat'].fillna( 0, inplace=True)\n",
    "df[\"Aidat\"].isna().sum()"
   ]
  },
  {
   "cell_type": "code",
   "execution_count": 35,
   "id": "95a9daac",
   "metadata": {},
   "outputs": [
    {
     "data": {
      "text/plain": [
       "Aidat\n",
       "0.0       556\n",
       "100.0      25\n",
       "50.0       18\n",
       "250.0      14\n",
       "200.0      14\n",
       "150.0      12\n",
       "500.0       9\n",
       "20.0        7\n",
       "400.0       6\n",
       "300.0       4\n",
       "600.0       4\n",
       "750.0       4\n",
       "450.0       4\n",
       "10.0        3\n",
       "75.0        3\n",
       "175.0       3\n",
       "350.0       3\n",
       "80.0        3\n",
       "1000.0      2\n",
       "950.0       2\n",
       "1.0         2\n",
       "1450.0      2\n",
       "120.0       2\n",
       "2700.0      1\n",
       "1700.0      1\n",
       "5000.0      1\n",
       "130.0       1\n",
       "2.0         1\n",
       "2000.0      1\n",
       "900.0       1\n",
       "3000.0      1\n",
       "365.0       1\n",
       "635.0       1\n",
       "550.0       1\n",
       "1200.0      1\n",
       "Name: count, dtype: int64"
      ]
     },
     "execution_count": 35,
     "metadata": {},
     "output_type": "execute_result"
    }
   ],
   "source": [
    "# Aidat\n",
    "df[\"Aidat\"].value_counts()"
   ]
  },
  {
   "cell_type": "code",
   "execution_count": 36,
   "id": "fba4a365",
   "metadata": {
    "scrolled": true
   },
   "outputs": [
    {
     "data": {
      "text/plain": [
       "Lokasyon              0\n",
       "Yapı Durumu           0\n",
       "Site İçerisinde       0\n",
       "Oda Sayısı            0\n",
       "Net Metrekare         0\n",
       "Isıtma Tipi           0\n",
       "Eşya Durumu           0\n",
       "Binanın Yaşı          0\n",
       "Binanın Kat Sayısı    0\n",
       "Balkon Durumu         0\n",
       "Banyo Sayısı          0\n",
       "WC Sayısı             0\n",
       "Aidat                 0\n",
       "Fiyat                 0\n",
       "Kat Grubu             0\n",
       "dtype: int64"
      ]
     },
     "execution_count": 36,
     "metadata": {},
     "output_type": "execute_result"
    }
   ],
   "source": [
    "df.isna().sum()"
   ]
  },
  {
   "cell_type": "code",
   "execution_count": 37,
   "id": "50bf96e1",
   "metadata": {},
   "outputs": [],
   "source": [
    "#DataFrame'i excel dosyasına yaz\n",
    "excel_file_path = r'../algoritmalar/DüzeltilmişEmlakVerileri.xlsx'\n",
    "df.to_excel(excel_file_path, index=False)"
   ]
  },
  {
   "cell_type": "markdown",
   "id": "4b70ec60",
   "metadata": {},
   "source": [
    "## Sayısallaştırma "
   ]
  },
  {
   "cell_type": "code",
   "execution_count": 38,
   "id": "43dd7c7c",
   "metadata": {},
   "outputs": [
    {
     "data": {
      "text/html": [
       "<div>\n",
       "<style scoped>\n",
       "    .dataframe tbody tr th:only-of-type {\n",
       "        vertical-align: middle;\n",
       "    }\n",
       "\n",
       "    .dataframe tbody tr th {\n",
       "        vertical-align: top;\n",
       "    }\n",
       "\n",
       "    .dataframe thead th {\n",
       "        text-align: right;\n",
       "    }\n",
       "</style>\n",
       "<table border=\"1\" class=\"dataframe\">\n",
       "  <thead>\n",
       "    <tr style=\"text-align: right;\">\n",
       "      <th></th>\n",
       "      <th>Lokasyon</th>\n",
       "      <th>Yapı Durumu</th>\n",
       "      <th>Site İçerisinde</th>\n",
       "      <th>Oda Sayısı</th>\n",
       "      <th>Net Metrekare</th>\n",
       "      <th>Isıtma Tipi</th>\n",
       "      <th>Eşya Durumu</th>\n",
       "      <th>Binanın Yaşı</th>\n",
       "      <th>Binanın Kat Sayısı</th>\n",
       "      <th>Balkon Durumu</th>\n",
       "      <th>Banyo Sayısı</th>\n",
       "      <th>WC Sayısı</th>\n",
       "      <th>Aidat</th>\n",
       "      <th>Fiyat</th>\n",
       "      <th>Kat Grubu</th>\n",
       "    </tr>\n",
       "  </thead>\n",
       "  <tbody>\n",
       "    <tr>\n",
       "      <th>0</th>\n",
       "      <td>Bursa - Yıldırım - Musababa Mh.</td>\n",
       "      <td>İkinci El</td>\n",
       "      <td>Hayır</td>\n",
       "      <td>3+1</td>\n",
       "      <td>100 M2</td>\n",
       "      <td>Doğalgaz Sobalı</td>\n",
       "      <td>Boş</td>\n",
       "      <td>21 Ve Üzeri</td>\n",
       "      <td>5.0</td>\n",
       "      <td>Var</td>\n",
       "      <td>1</td>\n",
       "      <td>1</td>\n",
       "      <td>100.0</td>\n",
       "      <td>8000.0</td>\n",
       "      <td>Düşük Katlar[1-4]</td>\n",
       "    </tr>\n",
       "    <tr>\n",
       "      <th>1</th>\n",
       "      <td>Bursa - Osmangazi - Güneştepe Mh.</td>\n",
       "      <td>Sıfır</td>\n",
       "      <td>Hayır</td>\n",
       "      <td>3+1</td>\n",
       "      <td>105 M2</td>\n",
       "      <td>Kombi Doğalgaz</td>\n",
       "      <td>Boş</td>\n",
       "      <td>0 (Yeni)</td>\n",
       "      <td>9.0</td>\n",
       "      <td>Var</td>\n",
       "      <td>2</td>\n",
       "      <td>0</td>\n",
       "      <td>0.0</td>\n",
       "      <td>16000.0</td>\n",
       "      <td>Düşük Katlar[1-4]</td>\n",
       "    </tr>\n",
       "    <tr>\n",
       "      <th>2</th>\n",
       "      <td>Bursa - Yıldırım - Piremir Mh.</td>\n",
       "      <td>İkinci El</td>\n",
       "      <td>Hayır</td>\n",
       "      <td>1 Oda</td>\n",
       "      <td>50 M2</td>\n",
       "      <td>Doğalgaz Sobalı</td>\n",
       "      <td>Boş</td>\n",
       "      <td>21 Ve Üzeri</td>\n",
       "      <td>3.0</td>\n",
       "      <td>Yok</td>\n",
       "      <td>1</td>\n",
       "      <td>0</td>\n",
       "      <td>2.0</td>\n",
       "      <td>6000.0</td>\n",
       "      <td>Giriş Katlar</td>\n",
       "    </tr>\n",
       "    <tr>\n",
       "      <th>3</th>\n",
       "      <td>Bursa - Nilüfer - Karaman Mh.</td>\n",
       "      <td>İkinci El</td>\n",
       "      <td>Evet</td>\n",
       "      <td>3+1</td>\n",
       "      <td>120 M2</td>\n",
       "      <td>Kombi Doğalgaz</td>\n",
       "      <td>Boş</td>\n",
       "      <td>21 Ve Üzeri</td>\n",
       "      <td>5.0</td>\n",
       "      <td>Var</td>\n",
       "      <td>1</td>\n",
       "      <td>2</td>\n",
       "      <td>200.0</td>\n",
       "      <td>15000.0</td>\n",
       "      <td>Düşük Katlar[1-4]</td>\n",
       "    </tr>\n",
       "    <tr>\n",
       "      <th>4</th>\n",
       "      <td>Bursa - Gürsu - Kurtuluş Mh.</td>\n",
       "      <td>İkinci El</td>\n",
       "      <td>Hayır</td>\n",
       "      <td>2+1</td>\n",
       "      <td>90 M2</td>\n",
       "      <td>Kombi Doğalgaz</td>\n",
       "      <td>Boş</td>\n",
       "      <td>11-15</td>\n",
       "      <td>4.0</td>\n",
       "      <td>Yok</td>\n",
       "      <td>1</td>\n",
       "      <td>2</td>\n",
       "      <td>0.0</td>\n",
       "      <td>9000.0</td>\n",
       "      <td>Giriş Katlar</td>\n",
       "    </tr>\n",
       "  </tbody>\n",
       "</table>\n",
       "</div>"
      ],
      "text/plain": [
       "                            Lokasyon Yapı Durumu Site İçerisinde Oda Sayısı  \\\n",
       "0    Bursa - Yıldırım - Musababa Mh.   İkinci El           Hayır        3+1   \n",
       "1  Bursa - Osmangazi - Güneştepe Mh.       Sıfır           Hayır        3+1   \n",
       "2     Bursa - Yıldırım - Piremir Mh.   İkinci El           Hayır      1 Oda   \n",
       "3      Bursa - Nilüfer - Karaman Mh.   İkinci El            Evet        3+1   \n",
       "4       Bursa - Gürsu - Kurtuluş Mh.   İkinci El           Hayır        2+1   \n",
       "\n",
       "  Net Metrekare      Isıtma Tipi Eşya Durumu Binanın Yaşı  Binanın Kat Sayısı  \\\n",
       "0        100 M2  Doğalgaz Sobalı         Boş  21 Ve Üzeri                 5.0   \n",
       "1        105 M2   Kombi Doğalgaz         Boş     0 (Yeni)                 9.0   \n",
       "2         50 M2  Doğalgaz Sobalı         Boş  21 Ve Üzeri                 3.0   \n",
       "3        120 M2   Kombi Doğalgaz         Boş  21 Ve Üzeri                 5.0   \n",
       "4         90 M2   Kombi Doğalgaz         Boş        11-15                 4.0   \n",
       "\n",
       "  Balkon Durumu  Banyo Sayısı WC Sayısı  Aidat    Fiyat          Kat Grubu  \n",
       "0           Var             1         1  100.0   8000.0  Düşük Katlar[1-4]  \n",
       "1           Var             2         0    0.0  16000.0  Düşük Katlar[1-4]  \n",
       "2           Yok             1         0    2.0   6000.0       Giriş Katlar  \n",
       "3           Var             1         2  200.0  15000.0  Düşük Katlar[1-4]  \n",
       "4           Yok             1         2    0.0   9000.0       Giriş Katlar  "
      ]
     },
     "execution_count": 38,
     "metadata": {},
     "output_type": "execute_result"
    }
   ],
   "source": [
    "df.head()"
   ]
  },
  {
   "cell_type": "code",
   "execution_count": 39,
   "id": "64cb18f2",
   "metadata": {},
   "outputs": [],
   "source": [
    "# 'Net Metrekare' sütunundaki sayısal değerleri çıkar\n",
    "df['Net Metrekare'] = df['Net Metrekare'].str.extract('(\\d+)').astype(float)"
   ]
  },
  {
   "cell_type": "code",
   "execution_count": 40,
   "id": "3fb738c7",
   "metadata": {},
   "outputs": [],
   "source": [
    "# Yapı Durumu\n",
    "df['Yapı Durumu'] = df['Yapı Durumu'].apply(lambda durum: 0 if 'İkinci El' in durum else 1)\n",
    "\n",
    "# Site İçerisinde\n",
    "df['Site İçerisinde'] = df['Site İçerisinde'].apply(lambda durum: 0 if 'Hayır' in durum else 1)\n",
    "\n",
    "# Eşya Durumu\n",
    "df['Eşya Durumu'] = df['Eşya Durumu'].apply(lambda durum: 0 if 'Boş' in durum else 1)\n",
    "\n",
    "# Balkon Durumu\n",
    "df['Balkon Durumu'] = df['Balkon Durumu'].apply(lambda durum: 0 if 'Yok' in durum else 1)\n",
    "\n",
    "from sklearn.preprocessing import LabelEncoder\n",
    "\n",
    "# LabelEncoder'ı bir kere tanımla\n",
    "label_encoder = LabelEncoder()\n",
    "\n",
    "# Lokasyon\n",
    "df['Lokasyon'] = label_encoder.fit_transform(df['Lokasyon'])\n",
    "\n",
    "# Oda Sayısı\n",
    "df['Oda Sayısı'] = label_encoder.fit_transform(df['Oda Sayısı'])\n",
    "\n",
    "# Isıtma Tipi\n",
    "df['Isıtma Tipi'] = label_encoder.fit_transform(df['Isıtma Tipi'])\n",
    "\n",
    "# Binanın Yaşı\n",
    "df['Binanın Yaşı'] = label_encoder.fit_transform(df['Binanın Yaşı'])\n",
    "\n",
    "# Kat Grubu\n",
    "df['Kat Grubu'] = label_encoder.fit_transform(df['Kat Grubu'])\n"
   ]
  },
  {
   "cell_type": "code",
   "execution_count": 41,
   "id": "de1396eb",
   "metadata": {},
   "outputs": [
    {
     "data": {
      "text/html": [
       "<div>\n",
       "<style scoped>\n",
       "    .dataframe tbody tr th:only-of-type {\n",
       "        vertical-align: middle;\n",
       "    }\n",
       "\n",
       "    .dataframe tbody tr th {\n",
       "        vertical-align: top;\n",
       "    }\n",
       "\n",
       "    .dataframe thead th {\n",
       "        text-align: right;\n",
       "    }\n",
       "</style>\n",
       "<table border=\"1\" class=\"dataframe\">\n",
       "  <thead>\n",
       "    <tr style=\"text-align: right;\">\n",
       "      <th></th>\n",
       "      <th>Lokasyon</th>\n",
       "      <th>Yapı Durumu</th>\n",
       "      <th>Site İçerisinde</th>\n",
       "      <th>Oda Sayısı</th>\n",
       "      <th>Net Metrekare</th>\n",
       "      <th>Isıtma Tipi</th>\n",
       "      <th>Eşya Durumu</th>\n",
       "      <th>Binanın Yaşı</th>\n",
       "      <th>Binanın Kat Sayısı</th>\n",
       "      <th>Balkon Durumu</th>\n",
       "      <th>Banyo Sayısı</th>\n",
       "      <th>WC Sayısı</th>\n",
       "      <th>Aidat</th>\n",
       "      <th>Fiyat</th>\n",
       "      <th>Kat Grubu</th>\n",
       "    </tr>\n",
       "  </thead>\n",
       "  <tbody>\n",
       "    <tr>\n",
       "      <th>0</th>\n",
       "      <td>155</td>\n",
       "      <td>0</td>\n",
       "      <td>0</td>\n",
       "      <td>7</td>\n",
       "      <td>100.0</td>\n",
       "      <td>0</td>\n",
       "      <td>0</td>\n",
       "      <td>5</td>\n",
       "      <td>5.0</td>\n",
       "      <td>1</td>\n",
       "      <td>1</td>\n",
       "      <td>1</td>\n",
       "      <td>100.0</td>\n",
       "      <td>8000.0</td>\n",
       "      <td>1</td>\n",
       "    </tr>\n",
       "    <tr>\n",
       "      <th>1</th>\n",
       "      <td>97</td>\n",
       "      <td>1</td>\n",
       "      <td>0</td>\n",
       "      <td>7</td>\n",
       "      <td>105.0</td>\n",
       "      <td>4</td>\n",
       "      <td>0</td>\n",
       "      <td>0</td>\n",
       "      <td>9.0</td>\n",
       "      <td>1</td>\n",
       "      <td>2</td>\n",
       "      <td>0</td>\n",
       "      <td>0.0</td>\n",
       "      <td>16000.0</td>\n",
       "      <td>1</td>\n",
       "    </tr>\n",
       "    <tr>\n",
       "      <th>2</th>\n",
       "      <td>158</td>\n",
       "      <td>0</td>\n",
       "      <td>0</td>\n",
       "      <td>0</td>\n",
       "      <td>50.0</td>\n",
       "      <td>0</td>\n",
       "      <td>0</td>\n",
       "      <td>5</td>\n",
       "      <td>3.0</td>\n",
       "      <td>0</td>\n",
       "      <td>1</td>\n",
       "      <td>0</td>\n",
       "      <td>2.0</td>\n",
       "      <td>6000.0</td>\n",
       "      <td>2</td>\n",
       "    </tr>\n",
       "    <tr>\n",
       "      <th>3</th>\n",
       "      <td>62</td>\n",
       "      <td>0</td>\n",
       "      <td>1</td>\n",
       "      <td>7</td>\n",
       "      <td>120.0</td>\n",
       "      <td>4</td>\n",
       "      <td>0</td>\n",
       "      <td>5</td>\n",
       "      <td>5.0</td>\n",
       "      <td>1</td>\n",
       "      <td>1</td>\n",
       "      <td>2</td>\n",
       "      <td>200.0</td>\n",
       "      <td>15000.0</td>\n",
       "      <td>1</td>\n",
       "    </tr>\n",
       "    <tr>\n",
       "      <th>4</th>\n",
       "      <td>17</td>\n",
       "      <td>0</td>\n",
       "      <td>0</td>\n",
       "      <td>4</td>\n",
       "      <td>90.0</td>\n",
       "      <td>4</td>\n",
       "      <td>0</td>\n",
       "      <td>2</td>\n",
       "      <td>4.0</td>\n",
       "      <td>0</td>\n",
       "      <td>1</td>\n",
       "      <td>2</td>\n",
       "      <td>0.0</td>\n",
       "      <td>9000.0</td>\n",
       "      <td>2</td>\n",
       "    </tr>\n",
       "  </tbody>\n",
       "</table>\n",
       "</div>"
      ],
      "text/plain": [
       "   Lokasyon  Yapı Durumu  Site İçerisinde  Oda Sayısı  Net Metrekare  \\\n",
       "0       155            0                0           7          100.0   \n",
       "1        97            1                0           7          105.0   \n",
       "2       158            0                0           0           50.0   \n",
       "3        62            0                1           7          120.0   \n",
       "4        17            0                0           4           90.0   \n",
       "\n",
       "   Isıtma Tipi  Eşya Durumu  Binanın Yaşı  Binanın Kat Sayısı  Balkon Durumu  \\\n",
       "0            0            0             5                 5.0              1   \n",
       "1            4            0             0                 9.0              1   \n",
       "2            0            0             5                 3.0              0   \n",
       "3            4            0             5                 5.0              1   \n",
       "4            4            0             2                 4.0              0   \n",
       "\n",
       "   Banyo Sayısı WC Sayısı  Aidat    Fiyat  Kat Grubu  \n",
       "0             1         1  100.0   8000.0          1  \n",
       "1             2         0    0.0  16000.0          1  \n",
       "2             1         0    2.0   6000.0          2  \n",
       "3             1         2  200.0  15000.0          1  \n",
       "4             1         2    0.0   9000.0          2  "
      ]
     },
     "execution_count": 41,
     "metadata": {},
     "output_type": "execute_result"
    }
   ],
   "source": [
    "df.head()"
   ]
  },
  {
   "cell_type": "code",
   "execution_count": 42,
   "id": "e165e3de",
   "metadata": {},
   "outputs": [],
   "source": [
    "# df'i Excel dosyasına kaydetme\n",
    "df.to_excel('../algoritmalar/SayısalEmlakVerileri.xlsx', index=False)"
   ]
  },
  {
   "cell_type": "markdown",
   "id": "03b43d53",
   "metadata": {},
   "source": [
    "## Algoritmalar"
   ]
  },
  {
   "cell_type": "code",
   "execution_count": 43,
   "id": "34d3ec71",
   "metadata": {},
   "outputs": [],
   "source": [
    "from sklearn.model_selection import train_test_split\n",
    "\n",
    "# Bağımlı değişken\n",
    "y = df['Fiyat']\n",
    "\n",
    "# Bağımsız değişkenler\n",
    "X = df[['Lokasyon', \n",
    "        'Kat Grubu',\n",
    "        'Oda Sayısı',\n",
    "        'Isıtma Tipi',\n",
    "        'Binanın Yaşı',\n",
    "        'Site İçerisinde',\n",
    "        'Eşya Durumu',\n",
    "        'Balkon Durumu',\n",
    "        'Yapı Durumu',\n",
    "        'Net Metrekare',\n",
    "        'Binanın Kat Sayısı',\n",
    "        'Banyo Sayısı',\n",
    "        'WC Sayısı',\n",
    "        'Aidat'\n",
    "        ]]\n",
    "\n",
    "# Train ve test setlerini oluştur\n",
    "X_train, X_test, y_train, y_test = train_test_split(X, y, test_size=0.2, random_state=42)"
   ]
  },
  {
   "cell_type": "code",
   "execution_count": 44,
   "id": "feee8bef",
   "metadata": {},
   "outputs": [],
   "source": [
    "# Lineer Regresyon\n",
    "from sklearn.linear_model import LinearRegression\n",
    "\n",
    "linear_model = LinearRegression()\n",
    "linear_model.fit(X_train, y_train)\n",
    "y_pred_linear = linear_model.predict(X_test)"
   ]
  },
  {
   "cell_type": "code",
   "execution_count": 45,
   "id": "b4e8c3aa",
   "metadata": {},
   "outputs": [],
   "source": [
    "# Lasso Regresyon\n",
    "from sklearn.linear_model import Lasso\n",
    "\n",
    "lasso_model = Lasso()\n",
    "lasso_model.fit(X_train, y_train)\n",
    "y_pred_lasso = lasso_model.predict(X_test)"
   ]
  },
  {
   "cell_type": "code",
   "execution_count": 46,
   "id": "66b79a87",
   "metadata": {},
   "outputs": [],
   "source": [
    "# Support Vector Regresyon\n",
    "from sklearn.svm import SVR\n",
    "\n",
    "svr_model = SVR()\n",
    "svr_model.fit(X_train, y_train)\n",
    "y_pred_svr = svr_model.predict(X_test)"
   ]
  },
  {
   "cell_type": "code",
   "execution_count": 47,
   "id": "01e16203",
   "metadata": {},
   "outputs": [],
   "source": [
    "# Karar Ağaçları\n",
    "from sklearn.tree import DecisionTreeRegressor\n",
    "\n",
    "dt_model = DecisionTreeRegressor()\n",
    "dt_model.fit(X_train, y_train)\n",
    "y_pred_dt = dt_model.predict(X_test)"
   ]
  },
  {
   "cell_type": "code",
   "execution_count": 48,
   "id": "deb809ab",
   "metadata": {},
   "outputs": [],
   "source": [
    "# Random Forest\n",
    "from sklearn.ensemble import RandomForestRegressor\n",
    "\n",
    "rf_model = RandomForestRegressor()\n",
    "rf_model.fit(X_train, y_train)\n",
    "y_pred_rf = rf_model.predict(X_test)"
   ]
  },
  {
   "cell_type": "code",
   "execution_count": 49,
   "id": "ef54a87e",
   "metadata": {},
   "outputs": [],
   "source": [
    "# Gradient Boosting\n",
    "from sklearn.ensemble import GradientBoostingRegressor\n",
    "\n",
    "gb_model = GradientBoostingRegressor()\n",
    "gb_model.fit(X_train, y_train)\n",
    "y_pred_gb = gb_model.predict(X_test)"
   ]
  },
  {
   "cell_type": "code",
   "execution_count": 50,
   "id": "f730e371",
   "metadata": {},
   "outputs": [],
   "source": [
    "# K-Nearest Neighbors (K-NN)\n",
    "from sklearn.neighbors import KNeighborsRegressor\n",
    "\n",
    "knn_model = KNeighborsRegressor()\n",
    "knn_model.fit(X_train, y_train)\n",
    "y_pred_knn = knn_model.predict(X_test)"
   ]
  },
  {
   "cell_type": "code",
   "execution_count": 51,
   "id": "ce1b0e86",
   "metadata": {},
   "outputs": [],
   "source": [
    "# Ridge Regresyon\n",
    "from sklearn.linear_model import Ridge\n",
    "\n",
    "ridge_model = Ridge()\n",
    "ridge_model.fit(X_train, y_train)\n",
    "y_pred_ridge = ridge_model.predict(X_test)"
   ]
  },
  {
   "cell_type": "code",
   "execution_count": 52,
   "id": "235da560",
   "metadata": {},
   "outputs": [
    {
     "name": "stdout",
     "output_type": "stream",
     "text": [
      "Linear Regression R-Squared Score: 0.46137255243145525\n",
      "Ridge Regression R-Squared Score: 0.4623321801189063\n",
      "Support Vector Regression R-Squared Score: -0.0026826594554469896\n",
      "Lasso Regression R-Squared Score: 0.46170722952009535\n",
      "Decision Tree R-Squared Score: 0.17898218454015258\n",
      "Random Forest R-Squared Score: 0.46451108492322624\n",
      "Gradient Boosting R-Squared Score: 0.524145598295366\n",
      "K-Nearest Neighbors R-Squared Score: 0.35083951114171896\n",
      "\n",
      "En İyi Model: Gradient Boosting\n"
     ]
    },
    {
     "data": {
      "text/plain": [
       "['../algoritmalar/emlak_best_model.pkl']"
      ]
     },
     "execution_count": 52,
     "metadata": {},
     "output_type": "execute_result"
    }
   ],
   "source": [
    "from sklearn.metrics import r2_score\n",
    "\n",
    "# Modellerinizi eğitin ve tahminleri yapın\n",
    "models = [linear_model,  ridge_model, svr_model, lasso_model, dt_model, rf_model, gb_model, knn_model]\n",
    "model_names = [\"Linear Regression\",\"Ridge Regression\" ,\"Support Vector Regression\", \"Lasso Regression\", \"Decision Tree\", \"Random Forest\", \"Gradient Boosting\", \"K-Nearest Neighbors\"]\n",
    "\n",
    "r2_scores = []\n",
    "\n",
    "for model, name in zip(models, model_names):\n",
    "    model.fit(X_train, y_train)\n",
    "    y_pred = model.predict(X_test)\n",
    "    r2 = r2_score(y_test, y_pred)\n",
    "    r2_scores.append(r2)\n",
    "    print(f\"{name} R-Squared Score: {r2}\")\n",
    "\n",
    "# En iyi modeli seçin\n",
    "best_model_index = r2_scores.index(max(r2_scores))\n",
    "best_model = models[best_model_index]\n",
    "best_model_name = model_names[best_model_index]\n",
    "\n",
    "print(f\"\\nEn İyi Model: {best_model_name}\")\n",
    "\n",
    "# joblib ile modeli kaydet\n",
    "import joblib\n",
    "joblib.dump(best_model, \"../algoritmalar/emlak_best_model.pkl\")"
   ]
  },
  {
   "cell_type": "code",
   "execution_count": null,
   "id": "46193ad1",
   "metadata": {},
   "outputs": [],
   "source": []
  }
 ],
 "metadata": {
  "kernelspec": {
   "display_name": "Python 3 (ipykernel)",
   "language": "python",
   "name": "python3"
  },
  "language_info": {
   "codemirror_mode": {
    "name": "ipython",
    "version": 3
   },
   "file_extension": ".py",
   "mimetype": "text/x-python",
   "name": "python",
   "nbconvert_exporter": "python",
   "pygments_lexer": "ipython3",
   "version": "3.11.5"
  }
 },
 "nbformat": 4,
 "nbformat_minor": 5
}
